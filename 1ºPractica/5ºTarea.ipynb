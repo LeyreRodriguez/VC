{
 "cells": [
  {
   "cell_type": "code",
   "execution_count": 1,
   "metadata": {},
   "outputs": [],
   "source": [
    "import cv2  \n",
    "import numpy as np\n",
    "import matplotlib.pyplot as plt"
   ]
  },
  {
   "cell_type": "code",
   "execution_count": 2,
   "metadata": {},
   "outputs": [],
   "source": [
    "#Dimensiones de la imagen a crear\n",
    "ancho = 200\n",
    "alto = 200"
   ]
  },
  {
   "cell_type": "code",
   "execution_count": 3,
   "metadata": {},
   "outputs": [
    {
     "name": "stdout",
     "output_type": "stream",
     "text": [
      "(200, 200, 1)\n"
     ]
    }
   ],
   "source": [
    "#Crea una imagen en gris, por ello tiene un único plano\n",
    "gris_img = np.zeros((ancho,alto,1), dtype = np.uint8)\n",
    "#Muestra dimensiones de la imagen creada\n",
    "print(gris_img.shape)"
   ]
  },
  {
   "cell_type": "code",
   "execution_count": 4,
   "metadata": {},
   "outputs": [],
   "source": [
    "# Función que trata eventos de ratón \n",
    "def mouse_events(event, x, y, flags, params):\n",
    "    global px, py, R, G, B\n",
    "    px = -1\n",
    "    # Movimiento del puntero     \n",
    "    if event==cv2.EVENT_MOUSEMOVE:\n",
    "        #Valores del píxel\n",
    "        B = frame[y, x, 0]\n",
    "        G = frame[y, x, 1]\n",
    "        R = frame[y, x, 2]  \n",
    "\n",
    "        px = x\n",
    "        py = y"
   ]
  },
  {
   "cell_type": "code",
   "execution_count": 5,
   "metadata": {},
   "outputs": [
    {
     "ename": "",
     "evalue": "",
     "output_type": "error",
     "traceback": [
      "\u001b[1;31mEl Kernel se bloqueó al ejecutar código en la celda actual o en una celda anterior. Revise el código de las celdas para identificar una posible causa del error. Haga clic <a href='https://aka.ms/vscodeJupyterKernelCrash'>aquí</a> para obtener más información. Vea el [registro] de Jupyter (command:jupyter.viewOutput) para obtener más detalles."
     ]
    }
   ],
   "source": [
    "import numpy as np\n",
    "import cv2\n",
    "\n",
    "video_capture = cv2.VideoCapture(0)\n",
    "radius = 41 #must be an odd number, or else GaussianBlur will fail\n",
    "circleColor = (0, 0, 255)\n",
    "circleThickness = 15\n",
    "\n",
    "while True:\n",
    "    ret, frame = video_capture.read()\n",
    "    image = frame.copy()\n",
    "    gray = cv2.cvtColor(image, cv2.COLOR_BGR2GRAY)\n",
    "    # perform a naive attempt to find the (x, y) coordinates of\n",
    "    # the area of the image with the largest intensity value\n",
    "    (minVal, maxVal, minLoc, maxLoc) = cv2.minMaxLoc(gray)\n",
    "    cv2.circle(image, maxLoc, 5, circleColor, circleThickness)\n",
    "    # display the results of the naive attempt\n",
    "    cv2.imshow(\"Naive\", image)\n",
    "    # apply a Gaussian blur to the image then find the brightest\n",
    "    # region\n",
    "    gray = cv2.GaussianBlur(gray, (radius, radius), 0)\n",
    "    (minVal, maxVal, minLoc, maxLoc) = cv2.minMaxLoc(gray)\n",
    "    image = frame.copy()\n",
    "    cv2.circle(image, maxLoc, radius, circleColor, circleThickness)\n",
    "    # display the results of our newly improved method\n",
    "    cv2.imshow(\"Robust\", image)\n",
    "    #cv2.waitKey(0)\n",
    "    if cv2.waitKey(20) == 27:\n",
    "        break"
   ]
  }
 ],
 "metadata": {
  "kernelspec": {
   "display_name": "Python 3.7.13 ('ENV_NAME')",
   "language": "python",
   "name": "python3"
  },
  "language_info": {
   "codemirror_mode": {
    "name": "ipython",
    "version": 3
   },
   "file_extension": ".py",
   "mimetype": "text/x-python",
   "name": "python",
   "nbconvert_exporter": "python",
   "pygments_lexer": "ipython3",
   "version": "3.7.13"
  },
  "orig_nbformat": 4,
  "vscode": {
   "interpreter": {
    "hash": "1a96185d96f9e74fadc7f7a25320793fbfec5bc7b3cf83916e4e10467cfe6a7b"
   }
  }
 },
 "nbformat": 4,
 "nbformat_minor": 2
}
