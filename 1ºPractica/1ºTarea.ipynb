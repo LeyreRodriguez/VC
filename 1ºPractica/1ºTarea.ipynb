{
 "cells": [
  {
   "cell_type": "code",
   "execution_count": 106,
   "metadata": {},
   "outputs": [],
   "source": [
    "import cv2  \n",
    "import numpy as np\n",
    "import matplotlib.pyplot as plt"
   ]
  },
  {
   "cell_type": "code",
   "execution_count": 107,
   "metadata": {},
   "outputs": [],
   "source": [
    "#Dimensiones de la imagen a crear\n",
    "ancho = 200\n",
    "alto = 200"
   ]
  },
  {
   "cell_type": "code",
   "execution_count": 108,
   "metadata": {},
   "outputs": [
    {
     "name": "stdout",
     "output_type": "stream",
     "text": [
      "(200, 200, 1)\n"
     ]
    }
   ],
   "source": [
    "#Crea una imagen en gris, por ello tiene un único plano\n",
    "gris_img = np.zeros((ancho,alto,1), dtype = np.uint8)\n",
    "#Muestra dimensiones de la imagen creada\n",
    "print(gris_img.shape)"
   ]
  },
  {
   "cell_type": "code",
   "execution_count": 109,
   "metadata": {},
   "outputs": [],
   "source": [
    "#Muestra la imagen (negra) con las utilidades de OpenCV en una ventana independiente\n",
    "cv2.imshow('Imagen', gris_img)\n",
    "#cv2.waitKey(0) # Se detiene hasta pulsar tecla (>0 milisegundos)\n",
    "cv2.destroyAllWindows() # Destruye todas las ventanas"
   ]
  },
  {
   "cell_type": "code",
   "execution_count": 110,
   "metadata": {},
   "outputs": [
    {
     "data": {
      "image/png": "[encoded data removed]",
      "text/plain": [
       "<Figure size 640x480 with 1 Axes>"
      ]
     },
     "metadata": {},
     "output_type": "display_data"
    }
   ],
   "source": [
    "#Modifica un par de zonas\n",
    "\n",
    "gris_img[25:50,0:25,0] = 255 #Especifica el canal\n",
    "gris_img[75:100,0:25,0] = 255 #No es necesario con un único plano\n",
    "gris_img[125:150,0:25,0] = 255 #No es necesario con un único plano\n",
    "gris_img[175:200,0:25,0] = 255 #No es necesario con un único plano\n",
    "\n",
    "gris_img[0:25,25:50,0] = 255 #Especifica el canal\n",
    "gris_img[50:75,25:50,0] = 255 #No es necesario con un único plano\n",
    "gris_img[100:125,25:50,0] = 255 #No es necesario con un único plano\n",
    "gris_img[150:175,25:50,0] = 255 #No es necesario con un único plano\n",
    "\n",
    "gris_img[25:50,50:75,0] = 255 #Especifica el canal\n",
    "gris_img[75:100,50:75,0] = 255 #No es necesario con un único plano\n",
    "gris_img[125:150,50:75,0] = 255 #No es necesario con un único plano\n",
    "gris_img[175:200,50:75,0] = 255 #No es necesario con un único plano\n",
    "\n",
    "gris_img[0:25,75:100,0] = 255 #Especifica el canal\n",
    "gris_img[50:75,75:100] = 255 #No es necesario con un único plano\n",
    "gris_img[100:125,75:100] = 255 #No es necesario con un único plano\n",
    "gris_img[150:175,75:100] = 255 #No es necesario con un único plano\n",
    "\n",
    "gris_img[25:50,100:125,0] = 255 #Especifica el canal\n",
    "gris_img[75:100,100:125,0] = 255 #No es necesario con un único plano\n",
    "gris_img[125:150,100:125,0] = 255 #No es necesario con un único plano\n",
    "gris_img[175:200,100:125,0] = 255 #No es necesario con un único plano\n",
    "\n",
    "\n",
    "gris_img[0:25,125:150,0] = 255 #Especifica el canal\n",
    "gris_img[50:75,125:150,0] = 255 #No es necesario con un único plano\n",
    "gris_img[100:125,125:150,0] = 255 #No es necesario con un único plano\n",
    "gris_img[150:175,125:150,0] = 255 #No es necesario con un único plano\n",
    "\n",
    "gris_img[25:50,150:175,0] = 255 #Especifica el canal\n",
    "gris_img[75:100,150:175,0] = 255 #No es necesario con un único plano\n",
    "gris_img[125:150,150:175,0] = 255 #No es necesario con un único plano\n",
    "gris_img[175:200,150:175,0] = 255 #No es necesario con un único plano\n",
    "\n",
    "gris_img[0:25,175:200,0] = 255 #Especifica el canal\n",
    "gris_img[50:75,175:200,0] = 255 #No es necesario con un único plano\n",
    "gris_img[100:125,175:200,0] = 255 #No es necesario con un único plano\n",
    "gris_img[150:175,175:200,0] = 255 #No es necesario con un único plano\n",
    "\n",
    "\n",
    "\n",
    "#Muestra la imagen con matplotlib, queda en el cuaderno\n",
    "#Es necesario especificar que el mapa de color usado es de grises\n",
    "plt.imshow(gris_img, cmap='gray')\n",
    "plt.show()"
   ]
  }
 ],
 "metadata": {
  "kernelspec": {
   "display_name": "Python 3.7.3 64-bit ('ENV_NAME')",
   "language": "python",
   "name": "python3"
  },
  "language_info": {
   "codemirror_mode": {
    "name": "ipython",
    "version": 3
   },
   "file_extension": ".py",
   "mimetype": "text/x-python",
   "name": "python",
   "nbconvert_exporter": "python",
   "pygments_lexer": "ipython3",
   "version": "3.7.13"
  },
  "orig_nbformat": 4,
  "vscode": {
   "interpreter": {
    "hash": "1a96185d96f9e74fadc7f7a25320793fbfec5bc7b3cf83916e4e10467cfe6a7b"
   }
  }
 },
 "nbformat": 4,
 "nbformat_minor": 2
}
